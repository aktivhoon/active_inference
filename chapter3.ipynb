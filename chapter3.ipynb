{
 "cells": [
  {
   "attachments": {},
   "cell_type": "markdown",
   "metadata": {},
   "source": [
    "## Cybernetic & Predictive Theories under Active Inference\n",
    "\n",
    "### 1. Active inference is in keeping with enactive theories of life and cognition\n",
    "* Formal framework explaining how living organisms manage to resist dispersion of their states by self-organizing a statistical structure (Markov Blanket) that affords reciprocal exchanges between organism and environment, while also separating the organism's states from external, environmental dynamcis\n",
    "\n",
    "### 2. Active inference is in keeping with cybernetic theories\n",
    "* *Theology*: bheavior is internally regulated by a mechanism that continuously tests whether a goal is achieved, and if nopt, steers corrective actions.\n",
    "* Active inference agents use both perception and action to minimize the discrepancy between preferred and sensed states\n",
    "* The variational free energy is what should be minimized, which is under certain condition, corresponding to a *prediction error*.\n",
    "\n",
    "### 3. Active inference is in keeping with theories that describe control as a prospective process that rests on a model of the environment\n",
    "* Active inference assuems that agents use a generative model to construct predictions, guiding their perception and action to evaluate their future.\n",
    "* Active inference is also coherent with ideomotor theory (action atarts with an imaginative process, andd it is a predictive representation that triggers actions)"
   ]
  },
  {
   "attachments": {},
   "cell_type": "markdown",
   "metadata": {},
   "source": [
    "## Active inference, from the emergence of life to agency\n",
    "\n",
    "* Active inference draws a line between those that mimimize *variational free energy* and those that also mimize *expected free energy*.\n",
    "\n",
    "### 1. Organisims which minimize variational free energy\n",
    "* Equivalenty an agent that actively gathers evidence for its generative model (= *self-evidencing agent*)\n",
    "* Avoid dissipation, self-regulate, and survive by achieving set-points (homeostasis)\n",
    "* Can generate complex and diverse forms of behavior, can also have very high fitness levels\n",
    "* However, these creatures are also fundamentally limited due to heir generative model lacking temporal depth\n",
    "\n",
    "### 2. Organisms which minimize expected free energy\n",
    "* Generative model endowed with temporal depth opens the door to the miminization of expected free energy (or, in psychological terms, **planning**)\n",
    "* Minimizing expected free energy is equivalent to having implicit prior that one is a free energy mimimizing agent, but acts to minimize free energy in the future\n",
    "* When the prior enters the generative model, the adaptive system becomes able to form belief about how to act in the future and which trajectories to follow (= select among alternative futures, as opposed to simply selecting how to deal with the sensed present)"
   ]
  },
  {
   "attachments": {},
   "cell_type": "markdown",
   "metadata": {},
   "source": []
  }
 ],
 "metadata": {
  "language_info": {
   "name": "python"
  },
  "orig_nbformat": 4
 },
 "nbformat": 4,
 "nbformat_minor": 2
}
